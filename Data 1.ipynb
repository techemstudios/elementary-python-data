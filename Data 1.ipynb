{
 "cells": [
  {
   "cell_type": "markdown",
   "metadata": {},
   "source": [
    "### Pre-req's : loops, conditionals, functions, lists, tuples, and dictionaries\n",
    "\n",
    "### Objectives : Advanced dictionaries, Overloaded term: index, Multiple indexes\n",
    "\n",
    "Data is at the heart of most computation. Remember, the earliest computers helped people \"store\" their counts - tally sticks. Today's computer systems are excellent data storage systems. So, it makes sense to learn some about how computer programs manage data.\n",
    "Let's consider how to store (in memory) a \"record\" in Python. Suppose we want to store contact records. Because we typically save the same information for each of our contacts, we can actually use a tuple where we can define up front the things we want to collect. For example:"
   ]
  },
  {
   "cell_type": "code",
   "execution_count": 1,
   "metadata": {},
   "outputs": [],
   "source": [
    "contact = ('first_name','last_name','mobile_phone','home_phone','zip_code')"
   ]
  },
  {
   "cell_type": "markdown",
   "metadata": {},
   "source": [
    "And, to go ahead and leverage functions for convenience, we can define a function to help us create contacts, which also allows us to minimize required fields."
   ]
  },
  {
   "cell_type": "code",
   "execution_count": 2,
   "metadata": {},
   "outputs": [],
   "source": [
    "def create_contact(first_name,last_name,mobile_phone,home_phone=None,zip_code=None):\n",
    "    return (first_name,last_name,mobile_phone,home_phone,zip_code)"
   ]
  },
  {
   "cell_type": "markdown",
   "metadata": {},
   "source": [
    "So, we have a way to store an individual contact. Of course, we want to store many contacts. We want to be able to add more records and perhaps even delete them. Hmmm... seems like a list would work. So, let's create a list and add some contacts."
   ]
  },
  {
   "cell_type": "code",
   "execution_count": 3,
   "metadata": {},
   "outputs": [
    {
     "name": "stdout",
     "output_type": "stream",
     "text": [
      "Contacts in the list\n",
      "[('Sue', 'Simmons', '804-555-1234', None, None), ('John', 'Doe', '804-555-1235', '804-555-1236', None), ('Pat', 'Petri', '804-555-1237', '804-555-1238', '23117')]\n"
     ]
    }
   ],
   "source": [
    "contacts = []\n",
    "contacts.append(create_contact(\"Sue\",\"Simmons\",\"804-555-1234\"))\n",
    "contacts.append(create_contact(\"John\",\"Doe\",\"804-555-1235\",\"804-555-1236\"))\n",
    "contacts.append(create_contact(\"Pat\",\"Petri\",\"804-555-1237\",\"804-555-1238\",\"23117\"))\n",
    "\n",
    "# Now, we have all our contacts stored nicely in a list\n",
    "print(\"Contacts in the list\")\n",
    "print(contacts)"
   ]
  },
  {
   "cell_type": "markdown",
   "metadata": {},
   "source": [
    "#### ?? Can you create a loop to ask for contact data from a user ??"
   ]
  },
  {
   "cell_type": "markdown",
   "metadata": {},
   "source": [
    "Well, we have the data stored, and we can easily dump all the data, but, that isn't very useful. We definitely want to be able to search this data. We know all about loops and conditionals, so let's create a simple search by first name."
   ]
  },
  {
   "cell_type": "code",
   "execution_count": 4,
   "metadata": {},
   "outputs": [
    {
     "name": "stdout",
     "output_type": "stream",
     "text": [
      "Contact lookup of 'John' using our custom finder\n",
      "('John', 'Doe', '804-555-1235', '804-555-1236', None)\n"
     ]
    }
   ],
   "source": [
    "def find_contact_by_first_name(first_name):\n",
    "    for contact in contacts:\n",
    "        if contact[0] == first_name:\n",
    "            return contact\n",
    "\n",
    "contact = find_contact_by_first_name(\"John\")\n",
    "\n",
    "print(\"Contact lookup of 'John' using our custom finder\")\n",
    "print(contact)"
   ]
  },
  {
   "cell_type": "markdown",
   "metadata": {},
   "source": [
    "We can even make things less obscure by clarifying the fields in the tuple. This is easier to explain in code:"
   ]
  },
  {
   "cell_type": "code",
   "execution_count": 5,
   "metadata": {},
   "outputs": [
    {
     "name": "stdout",
     "output_type": "stream",
     "text": [
      "Contact lookup of 'John' using our improved custom finder\n",
      "('John', 'Doe', '804-555-1235', '804-555-1236', None)\n"
     ]
    }
   ],
   "source": [
    "FIRST_NAME = 0 # First name is in the first position of the tuple.\n",
    "LAST_NAME = 1 # Last name i sin the second position of the tuple...\n",
    "MOBILE_PHONE = 2\n",
    "HOME_PHONE = 3\n",
    "ZIP_CODE = 4\n",
    "\n",
    "# So, let's redefine the finder and add another finder:\n",
    "\n",
    "def find_contact_by_first_name(first_name):\n",
    "    for contact in contacts:\n",
    "        if contact[FIRST_NAME] == first_name:\n",
    "            return contact\n",
    "\n",
    "contact = find_contact_by_first_name(\"John\")\n",
    "\n",
    "print(\"Contact lookup of 'John' using our improved custom finder\")\n",
    "print(contact)"
   ]
  },
  {
   "cell_type": "code",
   "execution_count": 6,
   "metadata": {},
   "outputs": [
    {
     "name": "stdout",
     "output_type": "stream",
     "text": [
      "Contact lookup of 'Simmons' using our find by last name\n",
      "('Sue', 'Simmons', '804-555-1234', None, None)\n"
     ]
    }
   ],
   "source": [
    "def find_contact_by_last_name(last_name):\n",
    "    for contact in contacts:\n",
    "        if contact[LAST_NAME] == last_name:\n",
    "            return contact\n",
    "\n",
    "contact = find_contact_by_last_name(\"Simmons\")\n",
    "\n",
    "print(\"Contact lookup of 'Simmons' using our find by last name\")\n",
    "print(contact)"
   ]
  },
  {
   "cell_type": "markdown",
   "metadata": {},
   "source": [
    "So, this is great, right? Actually, no. This search method will be pretty inefficient with large lists, but also a bit redundant since Python has this wonderful built-in data structure you already know, a dictionary!\n",
    "\n",
    "Remember, a dictionary allows you to directly connect a key with a value. If we put our contacts in a dictionary that is \"keyed\" by first_name, for example, we don't have to write a finder function! Oh, and python stores the dictionary internally in a much more efficent way (that we don't have to worry about). Essentially, Python's search in the dictionary is not a loop walking through every item in the dictionary. Again, let's go to code.\n",
    "\n",
    "First, let's arrange the contacts into a dictionary:"
   ]
  },
  {
   "cell_type": "code",
   "execution_count": 7,
   "metadata": {},
   "outputs": [],
   "source": [
    "contacts_by_first_name = {}\n",
    "\n",
    "for contact in contacts:\n",
    "    contacts_by_first_name[contact[FIRST_NAME]] = contact"
   ]
  },
  {
   "cell_type": "markdown",
   "metadata": {},
   "source": [
    "Think about what I am doing on the line above.\n",
    "\n",
    "Think about it some more. Do you understand it?\n",
    "\n",
    "For the first record it will be doing this:\n",
    "\n",
    "`contacts_by_first_name[\"Sue\"] = (\"Sue\",\"Simmons\",\"804-555-1234\",None,None)`\n",
    "\n",
    "This is how you \"add\" things to a dictionary. Remember, with the list when we \"append\"ed to the list? The line above is essentially the dictionary equivalent to appending. If the key isn't already in the dictionary, it will be added to the dictionary.\n",
    "\n",
    "So, we can just throw away that finder code we wrote before, cause now we can just do this:"
   ]
  },
  {
   "cell_type": "code",
   "execution_count": 8,
   "metadata": {},
   "outputs": [
    {
     "name": "stdout",
     "output_type": "stream",
     "text": [
      "First Name lookup of 'Pat' using Python's dictionary key index syntax\n",
      "('Pat', 'Petri', '804-555-1237', '804-555-1238', '23117')\n"
     ]
    }
   ],
   "source": [
    "contact = contacts_by_first_name[\"Pat\"]\n",
    "\n",
    "print(\"First Name lookup of 'Pat' using Python's dictionary key index syntax\")\n",
    "print(contact)"
   ]
  },
  {
   "cell_type": "markdown",
   "metadata": {},
   "source": [
    "### Some tricky and overused terminology: INDEX!\n",
    "With lists (often called arrays when the items in the list are homogenous), we have taught you that you can access the Nth item in a list using a list (or array) index notation, as in `list[n-1]`. So, we can still go back to our list and access a certain item by its order. Or, now, we put that list in a dictionary that, in many ways, still acts like a list, but the \"index\" of a dictionary uses the \"key\" in the dictionary, not a number (well, unless the key is a number)!\n",
    "\n",
    "Let's reflect on some points here:\n",
    " 1. It is best to take advantage of Python's dictionary to \"lookup\" records.\n",
    " 2. We can just keep adding things to the dictionary and lookup by key without writing special functions to walk through all the records and doing a comparison.\n",
    " 3. What if I want to lookup by last name? Huh, teacher?!\n",
    " 4. And wait a minute, what if I have two John's in my contacts?!!! Try adding another John to your dictionary and see what happens!\n",
    "\n",
    "So, let's tackle #3 first, cause that is EASY PEASY:"
   ]
  },
  {
   "cell_type": "code",
   "execution_count": 9,
   "metadata": {},
   "outputs": [
    {
     "name": "stdout",
     "output_type": "stream",
     "text": [
      "Last name lookup of 'Simmons' using Pythons's dictionary key index syntax\n",
      "('Sue', 'Simmons', '804-555-1234', None, None)\n"
     ]
    }
   ],
   "source": [
    "contacts_by_last_name = {}\n",
    "for contact in contacts:\n",
    "    contacts_by_last_name[contact[LAST_NAME]] = contact\n",
    "\n",
    "contact = contacts_by_last_name[\"Simmons\"]\n",
    "\n",
    "print(\"Last name lookup of 'Simmons' using Pythons's dictionary key index syntax\")\n",
    "print(contact)"
   ]
  },
  {
   "cell_type": "markdown",
   "metadata": {},
   "source": [
    "Easy, right? Except, now we have two dictionaries of our records. Everytime I add a record, I need to add the record to each dictionary. *AND*, what if I have contacts with the same last name. Oh... CRUD! (you will get that pun later -- if you do now, let us know)!\n",
    "\n",
    "Let's take care of dealing with two dictionaries with a convenience function. And note that this function doesn't require that we loop through existing contacts, we are just making sure we keep the dictionaries synchronized as contacts are added."
   ]
  },
  {
   "cell_type": "code",
   "execution_count": 10,
   "metadata": {},
   "outputs": [
    {
     "name": "stdout",
     "output_type": "stream",
     "text": [
      "First name lookup of 'Bart' using dictionary keyed by first name\n",
      "('Bart', 'Simpson', '804-555-4321', None, None)\n"
     ]
    }
   ],
   "source": [
    "def add_contact(contact):\n",
    "    contacts_by_first_name[contact[FIRST_NAME]] = contact\n",
    "    contacts_by_last_name[contact[LAST_NAME]] = contact\n",
    "\n",
    "\n",
    "add_contact(create_contact(\"Bart\",\"Simpson\",\"804-555-4321\"))\n",
    "\n",
    "contact = contacts_by_first_name[\"Bart\"]\n",
    "\n",
    "print(\"First name lookup of 'Bart' using dictionary keyed by first name\")\n",
    "print(contact)"
   ]
  },
  {
   "cell_type": "code",
   "execution_count": 11,
   "metadata": {},
   "outputs": [
    {
     "name": "stdout",
     "output_type": "stream",
     "text": [
      "Last name lookup of 'Bart' using dictionary keyed by last name\n",
      "('Bart', 'Simpson', '804-555-4321', None, None)\n"
     ]
    }
   ],
   "source": [
    "contact = contacts_by_last_name[\"Simpson\"]\n",
    "\n",
    "print(\"Last name lookup of 'Bart' using dictionary keyed by last name\")\n",
    "print(contact)"
   ]
  },
  {
   "cell_type": "markdown",
   "metadata": {},
   "source": [
    "In the database world, we create indexes into the data (tables) to make popular searches more efficient. We have essentially done the same thing, because we have defined a dictionary keyed by first_name and another keyed by last_name. So, we have two ways (columns) that we are indexing our data. We create the contact once in memory and because of the way Python actually stores the tuple and the reference to it in the dictionary, we can actually \"file\" it two ways at once -- by first_name and by last_name. Real file folders can't do that! Computers are cool!\n",
    "\n",
    "Ok, we'll take a break to make sure this settles with you. See if you can figure out how to create a lookup by mobile_phone. Remember, you'll need to create another dictionary (index) and update the add_contact method to keep this new dictionary in sync.\n",
    "\n",
    "And, for super-extra credit, see if you can create a lookup by first_name OR last_name.\n",
    "\n",
    "In the next lesson, we'll show how to handle a \"non unique\" key (Contacts with the same name).\n",
    "\n",
    "And then, we'll show you how to actually save your data while your program is not running!"
   ]
  }
 ],
 "metadata": {
  "kernelspec": {
   "display_name": "Python 3",
   "language": "python",
   "name": "python3"
  },
  "language_info": {
   "codemirror_mode": {
    "name": "ipython",
    "version": 3
   },
   "file_extension": ".py",
   "mimetype": "text/x-python",
   "name": "python",
   "nbconvert_exporter": "python",
   "pygments_lexer": "ipython3",
   "version": "3.6.6"
  }
 },
 "nbformat": 4,
 "nbformat_minor": 2
}
